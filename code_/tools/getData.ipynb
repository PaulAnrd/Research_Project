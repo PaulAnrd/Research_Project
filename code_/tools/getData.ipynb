{
 "cells": [
  {
   "cell_type": "code",
   "execution_count": 2,
   "metadata": {},
   "outputs": [],
   "source": [
    "import yfinance as yf\n",
    "import os\n"
   ]
  },
  {
   "cell_type": "code",
   "execution_count": null,
   "metadata": {},
   "outputs": [],
   "source": [
    "def download_and_save_stock_data(symbol, start_date=\"2000-01-01\", interval=\"1d\", output_dir=\"../data/stock\"):\n",
    "    print(f\"Fetching data for {symbol}...\")\n",
    "    \n",
    "    ticker = yf.Ticker(symbol)\n",
    "    \n",
    "    try:\n",
    "        data = ticker.history(start=start_date, interval=interval)\n",
    "        \n",
    "        if data.empty:\n",
    "            print(f\"Warning: No data returned for {symbol}.\")\n",
    "            return\n",
    "        \n",
    "        file_path = os.path.join(output_dir, f\"{symbol}.csv\")\n",
    "        data.to_csv(file_path)\n",
    "        \n",
    "    except Exception as e:\n",
    "        print(f\"Error downloading data for {symbol}: {e}\")"
   ]
  },
  {
   "cell_type": "code",
   "execution_count": null,
   "metadata": {},
   "outputs": [
    {
     "name": "stdout",
     "output_type": "stream",
     "text": [
      "Fetching data for AAPL...\n",
      "Data for AAPL saved to ..\\..\\data\\stocks\\AAPL.csv.\n",
      "Fetching data for MSFT...\n",
      "Data for MSFT saved to ..\\..\\data\\stocks\\MSFT.csv.\n",
      "Fetching data for GOOGL...\n",
      "Data for GOOGL saved to ..\\..\\data\\stocks\\GOOGL.csv.\n",
      "Fetching data for AMZN...\n",
      "Data for AMZN saved to ..\\..\\data\\stocks\\AMZN.csv.\n",
      "Fetching data for TSLA...\n",
      "Data for TSLA saved to ..\\..\\data\\stocks\\TSLA.csv.\n",
      "Fetching data for META...\n",
      "Data for META saved to ..\\..\\data\\stocks\\META.csv.\n",
      "Fetching data for NFLX...\n",
      "Data for NFLX saved to ..\\..\\data\\stocks\\NFLX.csv.\n",
      "Fetching data for NVDA...\n"
     ]
    },
    {
     "name": "stderr",
     "output_type": "stream",
     "text": [
      "Failed to get ticker 'NVDA' reason: ('Connection aborted.', RemoteDisconnected('Remote end closed connection without response'))\n",
      "NVDA: No timezone found, symbol may be delisted\n"
     ]
    },
    {
     "name": "stdout",
     "output_type": "stream",
     "text": [
      "Warning: No data returned for NVDA.\n",
      "Fetching data for INTC...\n",
      "Data for INTC saved to ..\\..\\data\\stocks\\INTC.csv.\n",
      "Fetching data for CSCO...\n"
     ]
    },
    {
     "name": "stderr",
     "output_type": "stream",
     "text": [
      "CSCO: No price data found, symbol may be delisted (1d 2000-01-01 -> 2025-02-11)\n"
     ]
    },
    {
     "name": "stdout",
     "output_type": "stream",
     "text": [
      "Warning: No data returned for CSCO.\n",
      "Fetching data for ADBE...\n",
      "Data for ADBE saved to ..\\..\\data\\stocks\\ADBE.csv.\n",
      "Fetching data for PYPL...\n",
      "Data for PYPL saved to ..\\..\\data\\stocks\\PYPL.csv.\n",
      "Fetching data for ORCL...\n",
      "Data for ORCL saved to ..\\..\\data\\stocks\\ORCL.csv.\n",
      "Fetching data for IBM...\n",
      "Data for IBM saved to ..\\..\\data\\stocks\\IBM.csv.\n",
      "Fetching data for CRM...\n",
      "Data for CRM saved to ..\\..\\data\\stocks\\CRM.csv.\n",
      "Fetching data for AMD...\n",
      "Data for AMD saved to ..\\..\\data\\stocks\\AMD.csv.\n",
      "Fetching data for QCOM...\n",
      "Data for QCOM saved to ..\\..\\data\\stocks\\QCOM.csv.\n",
      "Fetching data for TXN...\n",
      "Data for TXN saved to ..\\..\\data\\stocks\\TXN.csv.\n",
      "Fetching data for AVGO...\n",
      "Data for AVGO saved to ..\\..\\data\\stocks\\AVGO.csv.\n",
      "Fetching data for AMAT...\n",
      "Data for AMAT saved to ..\\..\\data\\stocks\\AMAT.csv.\n",
      "Fetching data for MU...\n",
      "Data for MU saved to ..\\..\\data\\stocks\\MU.csv.\n",
      "Fetching data for LRCX...\n",
      "Data for LRCX saved to ..\\..\\data\\stocks\\LRCX.csv.\n",
      "Fetching data for KLAC...\n",
      "Data for KLAC saved to ..\\..\\data\\stocks\\KLAC.csv.\n",
      "Fetching data for ADP...\n",
      "Data for ADP saved to ..\\..\\data\\stocks\\ADP.csv.\n",
      "Fetching data for ISRG...\n",
      "Data for ISRG saved to ..\\..\\data\\stocks\\ISRG.csv.\n",
      "Fetching data for MDT...\n",
      "Data for MDT saved to ..\\..\\data\\stocks\\MDT.csv.\n",
      "Fetching data for ABBV...\n",
      "Data for ABBV saved to ..\\..\\data\\stocks\\ABBV.csv.\n",
      "Fetching data for JNJ...\n",
      "Data for JNJ saved to ..\\..\\data\\stocks\\JNJ.csv.\n",
      "Fetching data for PFE...\n",
      "Data for PFE saved to ..\\..\\data\\stocks\\PFE.csv.\n",
      "Fetching data for MRK...\n",
      "Data for MRK saved to ..\\..\\data\\stocks\\MRK.csv.\n",
      "Fetching data for LLY...\n",
      "Data for LLY saved to ..\\..\\data\\stocks\\LLY.csv.\n",
      "Fetching data for BMY...\n",
      "Data for BMY saved to ..\\..\\data\\stocks\\BMY.csv.\n",
      "Fetching data for UNH...\n",
      "Data for UNH saved to ..\\..\\data\\stocks\\UNH.csv.\n",
      "Fetching data for CI...\n",
      "Data for CI saved to ..\\..\\data\\stocks\\CI.csv.\n",
      "Fetching data for CVS...\n",
      "Data for CVS saved to ..\\..\\data\\stocks\\CVS.csv.\n",
      "Fetching data for WBA...\n",
      "Data for WBA saved to ..\\..\\data\\stocks\\WBA.csv.\n",
      "Fetching data for COST...\n",
      "Data for COST saved to ..\\..\\data\\stocks\\COST.csv.\n",
      "Fetching data for WMT...\n"
     ]
    },
    {
     "name": "stderr",
     "output_type": "stream",
     "text": [
      "WMT: No price data found, symbol may be delisted (1d 2000-01-01 -> 2025-02-11)\n"
     ]
    },
    {
     "name": "stdout",
     "output_type": "stream",
     "text": [
      "Warning: No data returned for WMT.\n",
      "Fetching data for TGT...\n",
      "Data for TGT saved to ..\\..\\data\\stocks\\TGT.csv.\n",
      "Fetching data for HD...\n",
      "Data for HD saved to ..\\..\\data\\stocks\\HD.csv.\n",
      "Fetching data for LOW...\n",
      "Data for LOW saved to ..\\..\\data\\stocks\\LOW.csv.\n",
      "Fetching data for KMB...\n",
      "Data for KMB saved to ..\\..\\data\\stocks\\KMB.csv.\n",
      "Fetching data for PG...\n",
      "Data for PG saved to ..\\..\\data\\stocks\\PG.csv.\n",
      "Fetching data for KO...\n",
      "Data for KO saved to ..\\..\\data\\stocks\\KO.csv.\n",
      "Fetching data for PEP...\n",
      "Data for PEP saved to ..\\..\\data\\stocks\\PEP.csv.\n",
      "Fetching data for PM...\n",
      "Data for PM saved to ..\\..\\data\\stocks\\PM.csv.\n",
      "Fetching data for MO...\n",
      "Data for MO saved to ..\\..\\data\\stocks\\MO.csv.\n",
      "Fetching data for DEO...\n",
      "Data for DEO saved to ..\\..\\data\\stocks\\DEO.csv.\n",
      "Fetching data for SBUX...\n",
      "Data for SBUX saved to ..\\..\\data\\stocks\\SBUX.csv.\n",
      "Fetching data for MCD...\n",
      "Data for MCD saved to ..\\..\\data\\stocks\\MCD.csv.\n",
      "Fetching data for YUM...\n",
      "Data for YUM saved to ..\\..\\data\\stocks\\YUM.csv.\n",
      "Fetching data for GIS...\n",
      "Data for GIS saved to ..\\..\\data\\stocks\\GIS.csv.\n",
      "Fetching data for KHC...\n",
      "Data for KHC saved to ..\\..\\data\\stocks\\KHC.csv.\n",
      "Fetching data for C...\n",
      "Data for C saved to ..\\..\\data\\stocks\\C.csv.\n",
      "Fetching data for BAC...\n",
      "Data for BAC saved to ..\\..\\data\\stocks\\BAC.csv.\n",
      "Fetching data for JPM...\n",
      "Data for JPM saved to ..\\..\\data\\stocks\\JPM.csv.\n",
      "Fetching data for WFC...\n",
      "Data for WFC saved to ..\\..\\data\\stocks\\WFC.csv.\n",
      "Fetching data for GS...\n",
      "Data for GS saved to ..\\..\\data\\stocks\\GS.csv.\n",
      "Fetching data for MS...\n",
      "Data for MS saved to ..\\..\\data\\stocks\\MS.csv.\n",
      "Fetching data for AXP...\n",
      "Data for AXP saved to ..\\..\\data\\stocks\\AXP.csv.\n",
      "Fetching data for BRK-B...\n",
      "Data for BRK-B saved to ..\\..\\data\\stocks\\BRK-B.csv.\n",
      "Fetching data for V...\n",
      "Data for V saved to ..\\..\\data\\stocks\\V.csv.\n",
      "Fetching data for MA...\n",
      "Data for MA saved to ..\\..\\data\\stocks\\MA.csv.\n",
      "Fetching data for F...\n",
      "Data for F saved to ..\\..\\data\\stocks\\F.csv.\n",
      "Fetching data for GM...\n",
      "Data for GM saved to ..\\..\\data\\stocks\\GM.csv.\n",
      "Fetching data for HMC...\n",
      "Data for HMC saved to ..\\..\\data\\stocks\\HMC.csv.\n",
      "Fetching data for TM...\n",
      "Data for TM saved to ..\\..\\data\\stocks\\TM.csv.\n",
      "Fetching data for NIO...\n",
      "Data for NIO saved to ..\\..\\data\\stocks\\NIO.csv.\n",
      "Fetching data for BIDU...\n",
      "Data for BIDU saved to ..\\..\\data\\stocks\\BIDU.csv.\n",
      "Fetching data for BABA...\n",
      "Data for BABA saved to ..\\..\\data\\stocks\\BABA.csv.\n",
      "Fetching data for JD...\n",
      "Data for JD saved to ..\\..\\data\\stocks\\JD.csv.\n",
      "Fetching data for NTES...\n",
      "Data for NTES saved to ..\\..\\data\\stocks\\NTES.csv.\n",
      "Fetching data for PDD...\n",
      "Data for PDD saved to ..\\..\\data\\stocks\\PDD.csv.\n",
      "Fetching data for TCEHY...\n",
      "Data for TCEHY saved to ..\\..\\data\\stocks\\TCEHY.csv.\n",
      "Fetching data for SHOP...\n",
      "Data for SHOP saved to ..\\..\\data\\stocks\\SHOP.csv.\n",
      "Fetching data for SQ...\n",
      "Data for SQ saved to ..\\..\\data\\stocks\\SQ.csv.\n",
      "Fetching data for ZM...\n",
      "Data for ZM saved to ..\\..\\data\\stocks\\ZM.csv.\n",
      "Fetching data for DOCU...\n",
      "Data for DOCU saved to ..\\..\\data\\stocks\\DOCU.csv.\n",
      "Fetching data for UBER...\n",
      "Data for UBER saved to ..\\..\\data\\stocks\\UBER.csv.\n",
      "Fetching data for LYFT...\n",
      "Data for LYFT saved to ..\\..\\data\\stocks\\LYFT.csv.\n",
      "Fetching data for SNAP...\n",
      "Data for SNAP saved to ..\\..\\data\\stocks\\SNAP.csv.\n",
      "Fetching data for TWTR...\n"
     ]
    },
    {
     "name": "stderr",
     "output_type": "stream",
     "text": [
      "TWTR: No timezone found, symbol may be delisted\n"
     ]
    },
    {
     "name": "stdout",
     "output_type": "stream",
     "text": [
      "Warning: No data returned for TWTR.\n",
      "Fetching data for EXPE...\n",
      "Data for EXPE saved to ..\\..\\data\\stocks\\EXPE.csv.\n",
      "Fetching data for BKNG...\n",
      "Data for BKNG saved to ..\\..\\data\\stocks\\BKNG.csv.\n",
      "Fetching data for HLT...\n",
      "Data for HLT saved to ..\\..\\data\\stocks\\HLT.csv.\n",
      "Fetching data for MAR...\n",
      "Data for MAR saved to ..\\..\\data\\stocks\\MAR.csv.\n",
      "Fetching data for CMG...\n",
      "Data for CMG saved to ..\\..\\data\\stocks\\CMG.csv.\n",
      "Fetching data for NKE...\n",
      "Data for NKE saved to ..\\..\\data\\stocks\\NKE.csv.\n",
      "Fetching data for ADDYY...\n",
      "Data for ADDYY saved to ..\\..\\data\\stocks\\ADDYY.csv.\n",
      "Fetching data for SNE...\n"
     ]
    },
    {
     "name": "stderr",
     "output_type": "stream",
     "text": [
      "SNE: No timezone found, symbol may be delisted\n"
     ]
    },
    {
     "name": "stdout",
     "output_type": "stream",
     "text": [
      "Warning: No data returned for SNE.\n",
      "Fetching data for UBS...\n",
      "Data for UBS saved to ..\\..\\data\\stocks\\UBS.csv.\n",
      "Fetching data for CS...\n"
     ]
    },
    {
     "name": "stderr",
     "output_type": "stream",
     "text": [
      "CS: No timezone found, symbol may be delisted\n"
     ]
    },
    {
     "name": "stdout",
     "output_type": "stream",
     "text": [
      "Warning: No data returned for CS.\n",
      "Fetching data for RBS...\n"
     ]
    },
    {
     "name": "stderr",
     "output_type": "stream",
     "text": [
      "RBS: No timezone found, symbol may be delisted\n"
     ]
    },
    {
     "name": "stdout",
     "output_type": "stream",
     "text": [
      "Warning: No data returned for RBS.\n",
      "Fetching data for STT...\n",
      "Data for STT saved to ..\\..\\data\\stocks\\STT.csv.\n",
      "Fetching data for PGR...\n",
      "Data for PGR saved to ..\\..\\data\\stocks\\PGR.csv.\n",
      "Fetching data for AIG...\n",
      "Data for AIG saved to ..\\..\\data\\stocks\\AIG.csv.\n",
      "Fetching data for TRV...\n",
      "Data for TRV saved to ..\\..\\data\\stocks\\TRV.csv.\n",
      "Fetching data for CB...\n",
      "Data for CB saved to ..\\..\\data\\stocks\\CB.csv.\n",
      "Fetching data for TFC...\n",
      "Data for TFC saved to ..\\..\\data\\stocks\\TFC.csv.\n",
      "Fetching data for MSCI...\n",
      "Data for MSCI saved to ..\\..\\data\\stocks\\MSCI.csv.\n",
      "Fetching data for SPGI...\n",
      "Data for SPGI saved to ..\\..\\data\\stocks\\SPGI.csv.\n",
      "Fetching data for COF...\n",
      "Data for COF saved to ..\\..\\data\\stocks\\COF.csv.\n",
      "Fetching data for DFS...\n",
      "Data for DFS saved to ..\\..\\data\\stocks\\DFS.csv.\n",
      "Fetching data for STZ...\n",
      "Data for STZ saved to ..\\..\\data\\stocks\\STZ.csv.\n",
      "Fetching data for FIS...\n",
      "Data for FIS saved to ..\\..\\data\\stocks\\FIS.csv.\n",
      "Fetching data for ETFC...\n"
     ]
    },
    {
     "name": "stderr",
     "output_type": "stream",
     "text": [
      "ETFC: No timezone found, symbol may be delisted\n"
     ]
    },
    {
     "name": "stdout",
     "output_type": "stream",
     "text": [
      "Warning: No data returned for ETFC.\n",
      "Fetching data for VRTX...\n",
      "Data for VRTX saved to ..\\..\\data\\stocks\\VRTX.csv.\n",
      "Fetching data for GILD...\n",
      "Data for GILD saved to ..\\..\\data\\stocks\\GILD.csv.\n",
      "Fetching data for REGN...\n",
      "Data for REGN saved to ..\\..\\data\\stocks\\REGN.csv.\n",
      "Fetching data for AMGN...\n",
      "Data for AMGN saved to ..\\..\\data\\stocks\\AMGN.csv.\n",
      "Fetching data for BIIB...\n",
      "Data for BIIB saved to ..\\..\\data\\stocks\\BIIB.csv.\n",
      "Fetching data for ILMN...\n",
      "Data for ILMN saved to ..\\..\\data\\stocks\\ILMN.csv.\n",
      "Fetching data for ROST...\n",
      "Data for ROST saved to ..\\..\\data\\stocks\\ROST.csv.\n",
      "Fetching data for VFC...\n",
      "Data for VFC saved to ..\\..\\data\\stocks\\VFC.csv.\n",
      "Fetching data for TJX...\n",
      "Data for TJX saved to ..\\..\\data\\stocks\\TJX.csv.\n",
      "Fetching data for DG...\n",
      "Data for DG saved to ..\\..\\data\\stocks\\DG.csv.\n",
      "Fetching data for LB...\n",
      "Data for LB saved to ..\\..\\data\\stocks\\LB.csv.\n",
      "Fetching data for LULU...\n",
      "Data for LULU saved to ..\\..\\data\\stocks\\LULU.csv.\n",
      "Fetching data for NEM...\n",
      "Data for NEM saved to ..\\..\\data\\stocks\\NEM.csv.\n",
      "Fetching data for ANTM...\n"
     ]
    },
    {
     "name": "stderr",
     "output_type": "stream",
     "text": [
      "ANTM: No timezone found, symbol may be delisted\n"
     ]
    },
    {
     "name": "stdout",
     "output_type": "stream",
     "text": [
      "Warning: No data returned for ANTM.\n",
      "Fetching data for MET...\n",
      "Data for MET saved to ..\\..\\data\\stocks\\MET.csv.\n",
      "Fetching data for PRU...\n",
      "Data for PRU saved to ..\\..\\data\\stocks\\PRU.csv.\n",
      "Fetching data for BLK...\n",
      "Data for BLK saved to ..\\..\\data\\stocks\\BLK.csv.\n",
      "Fetching data for TROW...\n",
      "Data for TROW saved to ..\\..\\data\\stocks\\TROW.csv.\n",
      "Fetching data for AMP...\n",
      "Data for AMP saved to ..\\..\\data\\stocks\\AMP.csv.\n",
      "Fetching data for PNC...\n",
      "Data for PNC saved to ..\\..\\data\\stocks\\PNC.csv.\n",
      "Fetching data for BK...\n",
      "Data for BK saved to ..\\..\\data\\stocks\\BK.csv.\n",
      "Fetching data for USB...\n",
      "Data for USB saved to ..\\..\\data\\stocks\\USB.csv.\n",
      "Fetching data for FITB...\n",
      "Data for FITB saved to ..\\..\\data\\stocks\\FITB.csv.\n",
      "Fetching data for SCHW...\n",
      "Data for SCHW saved to ..\\..\\data\\stocks\\SCHW.csv.\n",
      "Fetching data for ETN...\n",
      "Data for ETN saved to ..\\..\\data\\stocks\\ETN.csv.\n",
      "Fetching data for HON...\n",
      "Data for HON saved to ..\\..\\data\\stocks\\HON.csv.\n",
      "Fetching data for GE...\n",
      "Data for GE saved to ..\\..\\data\\stocks\\GE.csv.\n",
      "Fetching data for MMM...\n",
      "Data for MMM saved to ..\\..\\data\\stocks\\MMM.csv.\n",
      "Fetching data for CAT...\n",
      "Data for CAT saved to ..\\..\\data\\stocks\\CAT.csv.\n",
      "Fetching data for DE...\n",
      "Data for DE saved to ..\\..\\data\\stocks\\DE.csv.\n",
      "Fetching data for LMT...\n",
      "Data for LMT saved to ..\\..\\data\\stocks\\LMT.csv.\n",
      "Fetching data for BA...\n",
      "Data for BA saved to ..\\..\\data\\stocks\\BA.csv.\n",
      "Fetching data for GD...\n",
      "Data for GD saved to ..\\..\\data\\stocks\\GD.csv.\n",
      "Fetching data for NOC...\n",
      "Data for NOC saved to ..\\..\\data\\stocks\\NOC.csv.\n",
      "Fetching data for RTX...\n",
      "Data for RTX saved to ..\\..\\data\\stocks\\RTX.csv.\n",
      "Fetching data for FDX...\n",
      "Data for FDX saved to ..\\..\\data\\stocks\\FDX.csv.\n",
      "Fetching data for UPS...\n",
      "Data for UPS saved to ..\\..\\data\\stocks\\UPS.csv.\n",
      "Fetching data for DAL...\n",
      "Data for DAL saved to ..\\..\\data\\stocks\\DAL.csv.\n",
      "Fetching data for AAL...\n",
      "Data for AAL saved to ..\\..\\data\\stocks\\AAL.csv.\n",
      "Fetching data for LUV...\n",
      "Data for LUV saved to ..\\..\\data\\stocks\\LUV.csv.\n",
      "Fetching data for ALK...\n",
      "Data for ALK saved to ..\\..\\data\\stocks\\ALK.csv.\n",
      "Fetching data for JBLU...\n",
      "Data for JBLU saved to ..\\..\\data\\stocks\\JBLU.csv.\n",
      "Fetching data for CCL...\n",
      "Data for CCL saved to ..\\..\\data\\stocks\\CCL.csv.\n",
      "Fetching data for RCL...\n",
      "Data for RCL saved to ..\\..\\data\\stocks\\RCL.csv.\n",
      "Fetching data for NCLH...\n",
      "Data for NCLH saved to ..\\..\\data\\stocks\\NCLH.csv.\n",
      "Fetching data for MARA...\n",
      "Data for MARA saved to ..\\..\\data\\stocks\\MARA.csv.\n",
      "Fetching data for RIOT...\n",
      "Data for RIOT saved to ..\\..\\data\\stocks\\RIOT.csv.\n",
      "Fetching data for HIVE...\n",
      "Data for HIVE saved to ..\\..\\data\\stocks\\HIVE.csv.\n",
      "Fetching data for NVAX...\n",
      "Data for NVAX saved to ..\\..\\data\\stocks\\NVAX.csv.\n",
      "Fetching data for BMRN...\n",
      "Data for BMRN saved to ..\\..\\data\\stocks\\BMRN.csv.\n",
      "Fetching data for ALGN...\n",
      "Data for ALGN saved to ..\\..\\data\\stocks\\ALGN.csv.\n",
      "Fetching data for BSX...\n",
      "Data for BSX saved to ..\\..\\data\\stocks\\BSX.csv.\n",
      "Fetching data for EW...\n",
      "Data for EW saved to ..\\..\\data\\stocks\\EW.csv.\n",
      "Fetching data for SYK...\n",
      "Data for SYK saved to ..\\..\\data\\stocks\\SYK.csv.\n",
      "Fetching data for DHR...\n",
      "Data for DHR saved to ..\\..\\data\\stocks\\DHR.csv.\n",
      "Fetching data for ZTS...\n",
      "Data for ZTS saved to ..\\..\\data\\stocks\\ZTS.csv.\n",
      "Fetching data for TEVA...\n",
      "Data for TEVA saved to ..\\..\\data\\stocks\\TEVA.csv.\n",
      "Fetching data for BDX...\n",
      "Data for BDX saved to ..\\..\\data\\stocks\\BDX.csv.\n",
      "Fetching data for HCA...\n",
      "Data for HCA saved to ..\\..\\data\\stocks\\HCA.csv.\n",
      "Fetching data for UHS...\n",
      "Data for UHS saved to ..\\..\\data\\stocks\\UHS.csv.\n",
      "Fetching data for CERN...\n"
     ]
    },
    {
     "name": "stderr",
     "output_type": "stream",
     "text": [
      "CERN: No timezone found, symbol may be delisted\n"
     ]
    },
    {
     "name": "stdout",
     "output_type": "stream",
     "text": [
      "Warning: No data returned for CERN.\n",
      "Fetching data for TMO...\n",
      "Data for TMO saved to ..\\..\\data\\stocks\\TMO.csv.\n",
      "Fetching data for PKI...\n"
     ]
    },
    {
     "name": "stderr",
     "output_type": "stream",
     "text": [
      "PKI: No timezone found, symbol may be delisted\n"
     ]
    },
    {
     "name": "stdout",
     "output_type": "stream",
     "text": [
      "Warning: No data returned for PKI.\n",
      "Fetching data for A...\n",
      "Data for A saved to ..\\..\\data\\stocks\\A.csv.\n",
      "Fetching data for ALXN...\n"
     ]
    },
    {
     "name": "stderr",
     "output_type": "stream",
     "text": [
      "ALXN: No timezone found, symbol may be delisted\n"
     ]
    },
    {
     "name": "stdout",
     "output_type": "stream",
     "text": [
      "Warning: No data returned for ALXN.\n",
      "Fetching data for COGN...\n"
     ]
    },
    {
     "name": "stderr",
     "output_type": "stream",
     "text": [
      "COGN: No price data found, symbol may be delisted (1d 2000-01-01 -> 2025-02-11)\n"
     ]
    },
    {
     "name": "stdout",
     "output_type": "stream",
     "text": [
      "Warning: No data returned for COGN.\n",
      "Fetching data for IDXX...\n",
      "Data for IDXX saved to ..\\..\\data\\stocks\\IDXX.csv.\n",
      "Fetching data for CTSH...\n",
      "Data for CTSH saved to ..\\..\\data\\stocks\\CTSH.csv.\n",
      "Fetching data for DXCM...\n",
      "Data for DXCM saved to ..\\..\\data\\stocks\\DXCM.csv.\n",
      "Fetching data for WDC...\n",
      "Data for WDC saved to ..\\..\\data\\stocks\\WDC.csv.\n",
      "Fetching data for ANET...\n",
      "Data for ANET saved to ..\\..\\data\\stocks\\ANET.csv.\n",
      "Fetching data for WDAY...\n",
      "Data for WDAY saved to ..\\..\\data\\stocks\\WDAY.csv.\n",
      "Fetching data for ZEN...\n"
     ]
    },
    {
     "name": "stderr",
     "output_type": "stream",
     "text": [
      "ZEN: No timezone found, symbol may be delisted\n"
     ]
    },
    {
     "name": "stdout",
     "output_type": "stream",
     "text": [
      "Warning: No data returned for ZEN.\n",
      "Fetching data for CRWD...\n",
      "Data for CRWD saved to ..\\..\\data\\stocks\\CRWD.csv.\n",
      "Fetching data for OKTA...\n",
      "Data for OKTA saved to ..\\..\\data\\stocks\\OKTA.csv.\n",
      "Fetching data for SMCI...\n",
      "Data for SMCI saved to ..\\..\\data\\stocks\\SMCI.csv.\n",
      "Fetching data for FISV...\n"
     ]
    },
    {
     "name": "stderr",
     "output_type": "stream",
     "text": [
      "FISV: No timezone found, symbol may be delisted\n"
     ]
    },
    {
     "name": "stdout",
     "output_type": "stream",
     "text": [
      "Warning: No data returned for FISV.\n",
      "Fetching data for CDNS...\n",
      "Data for CDNS saved to ..\\..\\data\\stocks\\CDNS.csv.\n",
      "Fetching data for MXIM...\n"
     ]
    },
    {
     "name": "stderr",
     "output_type": "stream",
     "text": [
      "Failed to get ticker 'MXIM' reason: HTTPSConnectionPool(host='query2.finance.yahoo.com', port=443): Read timed out. (read timeout=10)\n",
      "MXIM: No timezone found, symbol may be delisted\n"
     ]
    },
    {
     "name": "stdout",
     "output_type": "stream",
     "text": [
      "Warning: No data returned for MXIM.\n",
      "Fetching data for QRVO...\n",
      "Data for QRVO saved to ..\\..\\data\\stocks\\QRVO.csv.\n",
      "Fetching data for SWKS...\n",
      "Data for SWKS saved to ..\\..\\data\\stocks\\SWKS.csv.\n",
      "Fetching data for TER...\n",
      "Data for TER saved to ..\\..\\data\\stocks\\TER.csv.\n",
      "Fetching data for MCHP...\n",
      "Data for MCHP saved to ..\\..\\data\\stocks\\MCHP.csv.\n",
      "Fetching data for ON...\n",
      "Data for ON saved to ..\\..\\data\\stocks\\ON.csv.\n",
      "Fetching data for AVLR...\n"
     ]
    },
    {
     "name": "stderr",
     "output_type": "stream",
     "text": [
      "AVLR: No timezone found, symbol may be delisted\n"
     ]
    },
    {
     "name": "stdout",
     "output_type": "stream",
     "text": [
      "Warning: No data returned for AVLR.\n",
      "Fetching data for COUP...\n"
     ]
    },
    {
     "name": "stderr",
     "output_type": "stream",
     "text": [
      "Failed to get ticker 'COUP' reason: ('Connection aborted.', RemoteDisconnected('Remote end closed connection without response'))\n",
      "COUP: No timezone found, symbol may be delisted\n"
     ]
    },
    {
     "name": "stdout",
     "output_type": "stream",
     "text": [
      "Warning: No data returned for COUP.\n",
      "Fetching data for NOW...\n",
      "Data for NOW saved to ..\\..\\data\\stocks\\NOW.csv.\n",
      "Fetching data for ADSK...\n",
      "Data for ADSK saved to ..\\..\\data\\stocks\\ADSK.csv.\n",
      "Fetching data for SNPS...\n",
      "Data for SNPS saved to ..\\..\\data\\stocks\\SNPS.csv.\n",
      "Fetching data for CTAS...\n",
      "Data for CTAS saved to ..\\..\\data\\stocks\\CTAS.csv.\n",
      "Fetching data for VRSK...\n",
      "Data for VRSK saved to ..\\..\\data\\stocks\\VRSK.csv.\n",
      "Fetching data for PAYC...\n",
      "Data for PAYC saved to ..\\..\\data\\stocks\\PAYC.csv.\n",
      "Fetching data for WLTW...\n"
     ]
    },
    {
     "name": "stderr",
     "output_type": "stream",
     "text": [
      "WLTW: No timezone found, symbol may be delisted\n"
     ]
    },
    {
     "name": "stdout",
     "output_type": "stream",
     "text": [
      "Warning: No data returned for WLTW.\n",
      "Fetching data for EXPD...\n",
      "Data for EXPD saved to ..\\..\\data\\stocks\\EXPD.csv.\n"
     ]
    }
   ],
   "source": [
    "def main():\n",
    "    symbols = [\n",
    "    \"AAPL\", \"MSFT\", \"GOOGL\", \"AMZN\", \"TSLA\",\n",
    "    \"META\", \"NFLX\", \"NVDA\", \"INTC\", \"CSCO\",\n",
    "    \"ADBE\", \"PYPL\", \"ORCL\", \"IBM\", \"CRM\",\n",
    "    \"AMD\", \"QCOM\", \"TXN\", \"AVGO\", \"AMAT\",\n",
    "    \"MU\", \"LRCX\", \"KLAC\", \"ADP\", \"ISRG\",\n",
    "    \"MDT\", \"ABBV\", \"JNJ\", \"PFE\", \"MRK\",\n",
    "    \"LLY\", \"BMY\", \"UNH\", \"CI\", \"CVS\",\n",
    "    \"WBA\", \"COST\", \"WMT\", \"TGT\", \"HD\",\n",
    "    \"LOW\", \"KMB\", \"PG\", \"KO\", \"PEP\",\n",
    "    \"PM\", \"MO\", \"DEO\", \"SBUX\", \"MCD\",\n",
    "    \"YUM\", \"GIS\", \"KHC\", \"C\", \"BAC\",\n",
    "    \"JPM\", \"WFC\", \"GS\", \"MS\", \"AXP\",\n",
    "    \"BRK-B\", \"V\", \"MA\", \"F\", \"GM\",\n",
    "    \"HMC\", \"TM\", \"NIO\", \"BIDU\", \"BABA\",\n",
    "    \"JD\", \"NTES\", \"PDD\", \"TCEHY\", \"SHOP\",\n",
    "    \"SQ\", \"ZM\", \"DOCU\", \"UBER\", \"LYFT\",\n",
    "    \"SNAP\", \"TWTR\", \"EXPE\", \"BKNG\", \"HLT\",\n",
    "    \"MAR\", \"CMG\", \"NKE\", \"ADDYY\", \"SNE\",\n",
    "    \"UBS\", \"CS\", \"RBS\", \"STT\", \"PGR\",\n",
    "    \"AIG\", \"TRV\", \"CB\", \"TFC\", \"MSCI\",\n",
    "    \"SPGI\", \"COF\", \"DFS\", \"STZ\", \"FIS\",\n",
    "    \"ETFC\", \"VRTX\", \"GILD\", \"REGN\", \"AMGN\",\n",
    "    \"BIIB\", \"ILMN\", \"ROST\", \"VFC\", \"TJX\",\n",
    "    \"DG\", \"LB\", \"LULU\", \"NEM\", \"ANTM\",\n",
    "    \"MET\", \"PRU\", \"BLK\", \"TROW\", \"AMP\",\n",
    "    \"PNC\", \"BK\", \"USB\", \"FITB\", \"SCHW\",\n",
    "    \"ETN\", \"HON\", \"GE\", \"MMM\", \"CAT\",\n",
    "    \"DE\", \"LMT\", \"BA\", \"GD\", \"NOC\",\n",
    "    \"RTX\", \"FDX\", \"UPS\", \"DAL\", \"AAL\",\n",
    "    \"LUV\", \"ALK\", \"JBLU\", \"CCL\", \"RCL\",\n",
    "    \"NCLH\", \"MARA\", \"RIOT\", \"HIVE\", \"NVAX\",\n",
    "    \"BMRN\", \"ALGN\", \"BSX\", \"EW\", \"SYK\",\n",
    "    \"DHR\", \"ZTS\", \"TEVA\", \"BDX\", \"HCA\",\n",
    "    \"UHS\", \"CERN\", \"TMO\", \"PKI\", \"A\",\n",
    "    \"ALXN\", \"COGN\", \"IDXX\", \"CTSH\", \"DXCM\",\n",
    "    \"WDC\", \"ANET\", \"WDAY\", \"ZEN\", \"CRWD\",\n",
    "    \"OKTA\", \"SMCI\", \"FISV\", \"CDNS\", \"MXIM\",\n",
    "    \"QRVO\", \"SWKS\", \"TER\", \"MCHP\", \"ON\",\n",
    "    \"AVLR\", \"COUP\", \"NOW\", \"ADSK\", \"SNPS\",\n",
    "    \"CTAS\", \"VRSK\", \"PAYC\", \"WLTW\", \"EXPD\"\n",
    "]\n",
    "\n",
    "    \n",
    "    output_dir = os.path.join(\"..\", \"..\", \"data\", \"stocks\")\n",
    "    os.makedirs(output_dir, exist_ok=True)\n",
    "    \n",
    "    for symbol in symbols:\n",
    "        download_and_save_stock_data(symbol, output_dir=output_dir)\n",
    "\n",
    "if __name__ == \"__main__\":\n",
    "    main()\n"
   ]
  }
 ],
 "metadata": {
  "kernelspec": {
   "display_name": "Python 3",
   "language": "python",
   "name": "python3"
  },
  "language_info": {
   "codemirror_mode": {
    "name": "ipython",
    "version": 3
   },
   "file_extension": ".py",
   "mimetype": "text/x-python",
   "name": "python",
   "nbconvert_exporter": "python",
   "pygments_lexer": "ipython3",
   "version": "3.11.2"
  }
 },
 "nbformat": 4,
 "nbformat_minor": 2
}
