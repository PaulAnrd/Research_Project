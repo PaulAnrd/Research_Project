{
 "cells": [
  {
   "cell_type": "code",
   "execution_count": 76,
   "metadata": {},
   "outputs": [],
   "source": [
    "import numpy as np\n",
    "import pandas as pd\n",
    "import matplotlib.pyplot as plt\n",
    "import tensorflow as tf\n",
    "\n",
    "from LSTM_model import LSTM\n",
    "\n",
    "from tensorflow.keras.models import Sequential\n",
    "from tensorflow.keras.layers import Dense, Dropout, BatchNormalization\n",
    "from tensorflow.keras.optimizers import Adam\n",
    "from tensorflow.keras.callbacks import ReduceLROnPlateau\n",
    "from tensorflow.keras.callbacks import EarlyStopping\n",
    "from tensorflow.keras.layers import BatchNormalization\n",
    "from sklearn.preprocessing import StandardScaler\n",
    "from sklearn.model_selection import train_test_split\n",
    "from sklearn.metrics import mean_squared_error\n",
    "from sklearn.preprocessing import MinMaxScaler"
   ]
  },
  {
   "cell_type": "code",
   "execution_count": 77,
   "metadata": {},
   "outputs": [
    {
     "data": {
      "text/html": [
       "<div>\n",
       "<style scoped>\n",
       "    .dataframe tbody tr th:only-of-type {\n",
       "        vertical-align: middle;\n",
       "    }\n",
       "\n",
       "    .dataframe tbody tr th {\n",
       "        vertical-align: top;\n",
       "    }\n",
       "\n",
       "    .dataframe thead th {\n",
       "        text-align: right;\n",
       "    }\n",
       "</style>\n",
       "<table border=\"1\" class=\"dataframe\">\n",
       "  <thead>\n",
       "    <tr style=\"text-align: right;\">\n",
       "      <th></th>\n",
       "      <th>Date</th>\n",
       "      <th>Open</th>\n",
       "      <th>High</th>\n",
       "      <th>Low</th>\n",
       "      <th>Close</th>\n",
       "      <th>SP500_Adj_Close</th>\n",
       "      <th>move</th>\n",
       "      <th>Volume</th>\n",
       "      <th>volatility</th>\n",
       "      <th>volatility_forcast</th>\n",
       "      <th>returns</th>\n",
       "      <th>GARCH_VM</th>\n",
       "    </tr>\n",
       "  </thead>\n",
       "  <tbody>\n",
       "    <tr>\n",
       "      <th>0</th>\n",
       "      <td>2003-01-03</td>\n",
       "      <td>0.0477</td>\n",
       "      <td>0.0030</td>\n",
       "      <td>0.0015</td>\n",
       "      <td>0.0005</td>\n",
       "      <td>0.0482</td>\n",
       "      <td>1</td>\n",
       "      <td>0.0698</td>\n",
       "      <td>0.0668</td>\n",
       "      <td>0.2115</td>\n",
       "      <td>0.5843</td>\n",
       "      <td>0.0472</td>\n",
       "    </tr>\n",
       "    <tr>\n",
       "      <th>1</th>\n",
       "      <td>2003-01-06</td>\n",
       "      <td>0.0476</td>\n",
       "      <td>0.0014</td>\n",
       "      <td>0.0027</td>\n",
       "      <td>0.0049</td>\n",
       "      <td>0.0525</td>\n",
       "      <td>0</td>\n",
       "      <td>0.0973</td>\n",
       "      <td>0.2115</td>\n",
       "      <td>0.0912</td>\n",
       "      <td>0.6219</td>\n",
       "      <td>0.0377</td>\n",
       "    </tr>\n",
       "    <tr>\n",
       "      <th>2</th>\n",
       "      <td>2003-01-07</td>\n",
       "      <td>0.0518</td>\n",
       "      <td>0.0030</td>\n",
       "      <td>0.0009</td>\n",
       "      <td>0.0006</td>\n",
       "      <td>0.0512</td>\n",
       "      <td>0</td>\n",
       "      <td>0.1071</td>\n",
       "      <td>0.0912</td>\n",
       "      <td>0.1286</td>\n",
       "      <td>0.5742</td>\n",
       "      <td>0.0319</td>\n",
       "    </tr>\n",
       "    <tr>\n",
       "      <th>3</th>\n",
       "      <td>2003-01-08</td>\n",
       "      <td>0.0505</td>\n",
       "      <td>0.0033</td>\n",
       "      <td>0.0002</td>\n",
       "      <td>0.0020</td>\n",
       "      <td>0.0485</td>\n",
       "      <td>1</td>\n",
       "      <td>0.1001</td>\n",
       "      <td>0.1286</td>\n",
       "      <td>0.1648</td>\n",
       "      <td>0.5617</td>\n",
       "      <td>0.0256</td>\n",
       "    </tr>\n",
       "    <tr>\n",
       "      <th>4</th>\n",
       "      <td>2003-01-09</td>\n",
       "      <td>0.0478</td>\n",
       "      <td>0.0005</td>\n",
       "      <td>0.0028</td>\n",
       "      <td>0.0044</td>\n",
       "      <td>0.0522</td>\n",
       "      <td>0</td>\n",
       "      <td>0.1085</td>\n",
       "      <td>0.1648</td>\n",
       "      <td>0.1331</td>\n",
       "      <td>0.6169</td>\n",
       "      <td>0.0212</td>\n",
       "    </tr>\n",
       "  </tbody>\n",
       "</table>\n",
       "</div>"
      ],
      "text/plain": [
       "        Date    Open    High     Low   Close  SP500_Adj_Close  move  Volume  \\\n",
       "0 2003-01-03  0.0477  0.0030  0.0015  0.0005           0.0482     1  0.0698   \n",
       "1 2003-01-06  0.0476  0.0014  0.0027  0.0049           0.0525     0  0.0973   \n",
       "2 2003-01-07  0.0518  0.0030  0.0009  0.0006           0.0512     0  0.1071   \n",
       "3 2003-01-08  0.0505  0.0033  0.0002  0.0020           0.0485     1  0.1001   \n",
       "4 2003-01-09  0.0478  0.0005  0.0028  0.0044           0.0522     0  0.1085   \n",
       "\n",
       "   volatility  volatility_forcast  returns  GARCH_VM  \n",
       "0      0.0668              0.2115   0.5843    0.0472  \n",
       "1      0.2115              0.0912   0.6219    0.0377  \n",
       "2      0.0912              0.1286   0.5742    0.0319  \n",
       "3      0.1286              0.1648   0.5617    0.0256  \n",
       "4      0.1648              0.1331   0.6169    0.0212  "
      ]
     },
     "execution_count": 77,
     "metadata": {},
     "output_type": "execute_result"
    }
   ],
   "source": [
    "file_path = '../../data/dataS.csv'\n",
    "df = pd.read_csv(file_path, parse_dates=['Date'])\n",
    "#df = df.dropna()\n",
    "#df = df[df['volatility_forcast'] <= 0.2]\n",
    "#df = df[df['volatility'] <= 0.15]\n",
    "\n",
    "df.head()"
   ]
  },
  {
   "cell_type": "code",
   "execution_count": 78,
   "metadata": {},
   "outputs": [],
   "source": [
    "target = 'volatility_forcast'\n",
    "date='Date'\n",
    "\n",
    "df=df.drop(columns=[date])\n",
    "X = df.drop(columns=[target])\n",
    "y = df[target]\n"
   ]
  },
  {
   "cell_type": "code",
   "execution_count": 79,
   "metadata": {},
   "outputs": [],
   "source": [
    "X_train, X_test, y_train, y_test = train_test_split(X, y, test_size=0.2, random_state=42)"
   ]
  },
  {
   "cell_type": "code",
   "execution_count": 80,
   "metadata": {},
   "outputs": [],
   "source": [
    "input_size = X_train.shape[1]  # Number of features per time step\n",
    "hidden_size = 64  # Example hidden layer size\n",
    "output_size = y_train.shape[1] if len(y_train.shape) > 1 else 1  # Adjust based on your target"
   ]
  },
  {
   "cell_type": "code",
   "execution_count": 81,
   "metadata": {},
   "outputs": [],
   "source": [
    "X_train_np = X_train.to_numpy()  # or X_train.values\n",
    "y_train_np = y_train.to_numpy()  # or y_train.values"
   ]
  },
  {
   "cell_type": "code",
   "execution_count": 82,
   "metadata": {},
   "outputs": [
    {
     "name": "stderr",
     "output_type": "stream",
     "text": [
      "e:\\ESIEA\\Illinois Institute of Technology\\MATH 594 Research Project\\Research_Project\\code_\\models\\LSTM_model.py:114: RuntimeWarning: overflow encountered in add\n",
      "  dz = (np.dot(self.W_f.T, df) +\n",
      "e:\\ESIEA\\Illinois Institute of Technology\\MATH 594 Research Project\\Research_Project\\code_\\models\\LSTM_model.py:96: RuntimeWarning: overflow encountered in add\n",
      "  dc = dh * o_t * tanh_derivative(tanh(c_t)) + dc_next\n",
      "e:\\ESIEA\\Illinois Institute of Technology\\MATH 594 Research Project\\Research_Project\\code_\\models\\LSTM_model.py:106: RuntimeWarning: overflow encountered in add\n",
      "  dW_c += np.dot(d_c_tilde, z.T)\n",
      "e:\\ESIEA\\Illinois Institute of Technology\\MATH 594 Research Project\\Research_Project\\code_\\models\\LSTM_model.py:111: RuntimeWarning: overflow encountered in add\n",
      "  db_c += d_c_tilde\n"
     ]
    },
    {
     "name": "stdout",
     "output_type": "stream",
     "text": [
      "Epoch 0, Loss: 8.209278573204212\n",
      "Epoch 10, Loss: nan\n",
      "Epoch 20, Loss: nan\n",
      "Epoch 30, Loss: nan\n",
      "Epoch 40, Loss: nan\n",
      "Epoch 50, Loss: nan\n",
      "Epoch 60, Loss: nan\n",
      "Epoch 70, Loss: nan\n",
      "Epoch 80, Loss: nan\n",
      "Epoch 90, Loss: nan\n"
     ]
    }
   ],
   "source": [
    "# Create an instance of the model\n",
    "lstm_model = LSTM(input_size, hidden_size, output_size)\n",
    "\n",
    "# Train the model (ensure that X_train and y_train are formatted as a sequence)\n",
    "lstm_model.train(X_train_np, y_train_np, learning_rate=0.01, epochs=100)"
   ]
  },
  {
   "cell_type": "code",
   "execution_count": 83,
   "metadata": {},
   "outputs": [
    {
     "ename": "KeyError",
     "evalue": "0",
     "output_type": "error",
     "traceback": [
      "\u001b[1;31m---------------------------------------------------------------------------\u001b[0m",
      "\u001b[1;31mKeyError\u001b[0m                                  Traceback (most recent call last)",
      "File \u001b[1;32mc:\\Python311\\Lib\\site-packages\\pandas\\core\\indexes\\base.py:3652\u001b[0m, in \u001b[0;36mIndex.get_loc\u001b[1;34m(self, key)\u001b[0m\n\u001b[0;32m   3651\u001b[0m \u001b[38;5;28;01mtry\u001b[39;00m:\n\u001b[1;32m-> 3652\u001b[0m     \u001b[38;5;28;01mreturn\u001b[39;00m \u001b[38;5;28;43mself\u001b[39;49m\u001b[38;5;241;43m.\u001b[39;49m\u001b[43m_engine\u001b[49m\u001b[38;5;241;43m.\u001b[39;49m\u001b[43mget_loc\u001b[49m\u001b[43m(\u001b[49m\u001b[43mcasted_key\u001b[49m\u001b[43m)\u001b[49m\n\u001b[0;32m   3653\u001b[0m \u001b[38;5;28;01mexcept\u001b[39;00m \u001b[38;5;167;01mKeyError\u001b[39;00m \u001b[38;5;28;01mas\u001b[39;00m err:\n",
      "File \u001b[1;32mc:\\Python311\\Lib\\site-packages\\pandas\\_libs\\index.pyx:147\u001b[0m, in \u001b[0;36mpandas._libs.index.IndexEngine.get_loc\u001b[1;34m()\u001b[0m\n",
      "File \u001b[1;32mc:\\Python311\\Lib\\site-packages\\pandas\\_libs\\index.pyx:176\u001b[0m, in \u001b[0;36mpandas._libs.index.IndexEngine.get_loc\u001b[1;34m()\u001b[0m\n",
      "File \u001b[1;32mpandas\\_libs\\hashtable_class_helper.pxi:7080\u001b[0m, in \u001b[0;36mpandas._libs.hashtable.PyObjectHashTable.get_item\u001b[1;34m()\u001b[0m\n",
      "File \u001b[1;32mpandas\\_libs\\hashtable_class_helper.pxi:7088\u001b[0m, in \u001b[0;36mpandas._libs.hashtable.PyObjectHashTable.get_item\u001b[1;34m()\u001b[0m\n",
      "\u001b[1;31mKeyError\u001b[0m: 0",
      "\nThe above exception was the direct cause of the following exception:\n",
      "\u001b[1;31mKeyError\u001b[0m                                  Traceback (most recent call last)",
      "Cell \u001b[1;32mIn[83], line 2\u001b[0m\n\u001b[0;32m      1\u001b[0m \u001b[38;5;66;03m# Predict using the forward pass (X_test should also be in the same sequence format)\u001b[39;00m\n\u001b[1;32m----> 2\u001b[0m y_pred, hidden_states, cell_states \u001b[38;5;241m=\u001b[39m \u001b[43mlstm_model\u001b[49m\u001b[38;5;241;43m.\u001b[39;49m\u001b[43mforward\u001b[49m\u001b[43m(\u001b[49m\u001b[43mX_test\u001b[49m\u001b[43m)\u001b[49m\n",
      "File \u001b[1;32me:\\ESIEA\\Illinois Institute of Technology\\MATH 594 Research Project\\Research_Project\\code_\\models\\LSTM_model.py:44\u001b[0m, in \u001b[0;36mLSTM.forward\u001b[1;34m(self, x)\u001b[0m\n\u001b[0;32m     41\u001b[0m y \u001b[38;5;241m=\u001b[39m np\u001b[38;5;241m.\u001b[39mzeros((\u001b[38;5;28mself\u001b[39m\u001b[38;5;241m.\u001b[39moutput_size, T))\n\u001b[0;32m     43\u001b[0m \u001b[38;5;28;01mfor\u001b[39;00m t \u001b[38;5;129;01min\u001b[39;00m \u001b[38;5;28mrange\u001b[39m(T):\n\u001b[1;32m---> 44\u001b[0m     x_t \u001b[38;5;241m=\u001b[39m \u001b[43mx\u001b[49m\u001b[43m[\u001b[49m\u001b[43mt\u001b[49m\u001b[43m]\u001b[49m\u001b[38;5;241m.\u001b[39mreshape(\u001b[38;5;241m-\u001b[39m\u001b[38;5;241m1\u001b[39m, \u001b[38;5;241m1\u001b[39m)\n\u001b[0;32m     45\u001b[0m     h_prev \u001b[38;5;241m=\u001b[39m h[:, t]\u001b[38;5;241m.\u001b[39mreshape(\u001b[38;5;241m-\u001b[39m\u001b[38;5;241m1\u001b[39m, \u001b[38;5;241m1\u001b[39m)\n\u001b[0;32m     46\u001b[0m     c_prev \u001b[38;5;241m=\u001b[39m c[:, t]\u001b[38;5;241m.\u001b[39mreshape(\u001b[38;5;241m-\u001b[39m\u001b[38;5;241m1\u001b[39m, \u001b[38;5;241m1\u001b[39m)\n",
      "File \u001b[1;32mc:\\Python311\\Lib\\site-packages\\pandas\\core\\frame.py:3761\u001b[0m, in \u001b[0;36mDataFrame.__getitem__\u001b[1;34m(self, key)\u001b[0m\n\u001b[0;32m   3759\u001b[0m \u001b[38;5;28;01mif\u001b[39;00m \u001b[38;5;28mself\u001b[39m\u001b[38;5;241m.\u001b[39mcolumns\u001b[38;5;241m.\u001b[39mnlevels \u001b[38;5;241m>\u001b[39m \u001b[38;5;241m1\u001b[39m:\n\u001b[0;32m   3760\u001b[0m     \u001b[38;5;28;01mreturn\u001b[39;00m \u001b[38;5;28mself\u001b[39m\u001b[38;5;241m.\u001b[39m_getitem_multilevel(key)\n\u001b[1;32m-> 3761\u001b[0m indexer \u001b[38;5;241m=\u001b[39m \u001b[38;5;28;43mself\u001b[39;49m\u001b[38;5;241;43m.\u001b[39;49m\u001b[43mcolumns\u001b[49m\u001b[38;5;241;43m.\u001b[39;49m\u001b[43mget_loc\u001b[49m\u001b[43m(\u001b[49m\u001b[43mkey\u001b[49m\u001b[43m)\u001b[49m\n\u001b[0;32m   3762\u001b[0m \u001b[38;5;28;01mif\u001b[39;00m is_integer(indexer):\n\u001b[0;32m   3763\u001b[0m     indexer \u001b[38;5;241m=\u001b[39m [indexer]\n",
      "File \u001b[1;32mc:\\Python311\\Lib\\site-packages\\pandas\\core\\indexes\\base.py:3654\u001b[0m, in \u001b[0;36mIndex.get_loc\u001b[1;34m(self, key)\u001b[0m\n\u001b[0;32m   3652\u001b[0m     \u001b[38;5;28;01mreturn\u001b[39;00m \u001b[38;5;28mself\u001b[39m\u001b[38;5;241m.\u001b[39m_engine\u001b[38;5;241m.\u001b[39mget_loc(casted_key)\n\u001b[0;32m   3653\u001b[0m \u001b[38;5;28;01mexcept\u001b[39;00m \u001b[38;5;167;01mKeyError\u001b[39;00m \u001b[38;5;28;01mas\u001b[39;00m err:\n\u001b[1;32m-> 3654\u001b[0m     \u001b[38;5;28;01mraise\u001b[39;00m \u001b[38;5;167;01mKeyError\u001b[39;00m(key) \u001b[38;5;28;01mfrom\u001b[39;00m \u001b[38;5;21;01merr\u001b[39;00m\n\u001b[0;32m   3655\u001b[0m \u001b[38;5;28;01mexcept\u001b[39;00m \u001b[38;5;167;01mTypeError\u001b[39;00m:\n\u001b[0;32m   3656\u001b[0m     \u001b[38;5;66;03m# If we have a listlike key, _check_indexing_error will raise\u001b[39;00m\n\u001b[0;32m   3657\u001b[0m     \u001b[38;5;66;03m#  InvalidIndexError. Otherwise we fall through and re-raise\u001b[39;00m\n\u001b[0;32m   3658\u001b[0m     \u001b[38;5;66;03m#  the TypeError.\u001b[39;00m\n\u001b[0;32m   3659\u001b[0m     \u001b[38;5;28mself\u001b[39m\u001b[38;5;241m.\u001b[39m_check_indexing_error(key)\n",
      "\u001b[1;31mKeyError\u001b[0m: 0"
     ]
    }
   ],
   "source": [
    "# Predict using the forward pass (X_test should also be in the same sequence format)\n",
    "y_pred, hidden_states, cell_states = lstm_model.forward(X_test)\n"
   ]
  }
 ],
 "metadata": {
  "kernelspec": {
   "display_name": "Python 3",
   "language": "python",
   "name": "python3"
  },
  "language_info": {
   "codemirror_mode": {
    "name": "ipython",
    "version": 3
   },
   "file_extension": ".py",
   "mimetype": "text/x-python",
   "name": "python",
   "nbconvert_exporter": "python",
   "pygments_lexer": "ipython3",
   "version": "3.11.2"
  }
 },
 "nbformat": 4,
 "nbformat_minor": 2
}
