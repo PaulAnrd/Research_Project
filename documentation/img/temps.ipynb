{
 "cells": [
  {
   "cell_type": "code",
   "execution_count": 1,
   "metadata": {},
   "outputs": [
    {
     "name": "stdout",
     "output_type": "stream",
     "text": [
      "Image successfully converted to black and white!\n"
     ]
    }
   ],
   "source": [
    "from PIL import Image\n",
    "\n",
    "# Open the image\n",
    "img = Image.open(\"structure.png\")\n",
    "\n",
    "# Convert the image to black and white using a threshold\n",
    "threshold = 200  # Set the threshold value (0-255)\n",
    "bw = img.convert(\"L\").point(lambda x: 255 if x > threshold else 0, mode='1')\n",
    "\n",
    "# Save the black and white image\n",
    "bw.save(\"structure_bw.png\")\n",
    "\n",
    "print(\"Image successfully converted to black and white!\")\n"
   ]
  }
 ],
 "metadata": {
  "kernelspec": {
   "display_name": "Python 3",
   "language": "python",
   "name": "python3"
  },
  "language_info": {
   "codemirror_mode": {
    "name": "ipython",
    "version": 3
   },
   "file_extension": ".py",
   "mimetype": "text/x-python",
   "name": "python",
   "nbconvert_exporter": "python",
   "pygments_lexer": "ipython3",
   "version": "3.11.2"
  }
 },
 "nbformat": 4,
 "nbformat_minor": 2
}
